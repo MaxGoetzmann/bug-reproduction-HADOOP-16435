{
 "cells": [
  {
   "cell_type": "markdown",
   "id": "64a77618-26a2-46aa-abf7-2a4ccf6440ed",
   "metadata": {},
   "source": [
    "# HADOOP-18146: ABFS: Add changes for expect hundred continue header with append requests\n",
    "**Problem description**:\n",
    "\n",
    "Summary: Heavy load to Azure storage constantly gets throttled, and the FE (Frontend) node shows high resource (memory) utilization\n",
    "\n",
    "Problem: The payload of the throttled operations will still gets buffered at Http.Sys, a windows\n",
    "    http server.\n",
    "\n",
    "    Env: ABFS (Azure storage)\n",
    "\n",
    "    Trigger: Heavy load with append request (supposedly large request)\n",
    "\n",
    "    Implication:\n",
    "        1. High memory pressure at frontend node\n",
    "        2. Large amount of TCP SYN packet (used for TCP connection establishment/handshake)\n",
    "\n",
    "    Fix:\n",
    "        1. Add a new parameter to enable Expect 100 header in all client's append requests\n",
    "        2. When Expect 100 header is included in the request, server will respond with 100 continue\n",
    "           if the operation is not throttled. The client will then transfer the payload upon receiving it\n",
    "        3. Result of the patch shows that: a). The ratio of TCP SYN packet count with and without\n",
    "           expect hundred continue enabled is 0.32 : 3 on average. b). The ingress into the machine\n",
    "           at TCP level is almost 3 times lesser with hundred continue enabled which implies a lot of BW save.\n",
    "Jira issue: https://issues.apache.org/jira/browse/HADOOP-18146\n",
    "\n",
    "## Initialize Jupyter notebook environment \n",
    "\n",
    "We will setup which chameleon site to use, which project to use, and necessary packages (mainly python-chi) that will be used in later experiments."
   ]
  },
  {
   "cell_type": "code",
   "execution_count": 1,
   "id": "b9fccfc7-90b5-401e-aa91-800b3c20b67b",
   "metadata": {},
   "outputs": [
    {
     "name": "stdout",
     "output_type": "stream",
     "text": [
      "Now using CHI@UC:\n",
      "URL: https://chi.uc.chameleoncloud.org\n",
      "Location: Argonne National Laboratory, Lemont, Illinois, USA\n",
      "Support contact: help@chameleoncloud.org\n",
      "UID for this experiment is 94813b23-7906-4956-ac87-7d2a7fc8a52a\n"
     ]
    }
   ],
   "source": [
    "import chi\n",
    "from chi import lease, server\n",
    "import os\n",
    "import keystoneauth1, blazarclient\n",
    "import uuid\n",
    "\n",
    "CLOUD_SITE = \"CHI@UC\"\n",
    "\n",
    "PROJECT_ID = \"CHI-231080\"\n",
    "chi.set(\"project_name\", PROJECT_ID)\n",
    "chi.use_site(CLOUD_SITE)\n",
    "uid_this = str(uuid.uuid4())\n",
    "\n",
    "print(f\"UID for this experiment is {uid_this}\")"
   ]
  },
  {
   "cell_type": "markdown",
   "id": "f9bb46b4-a19f-4291-a9ca-4f78212e1502",
   "metadata": {},
   "source": [
    "## Make reservation \n",
    "\n",
    "We will create lease reserving 1) a floating IP (i.e., public IP we are going to connect to) and 2) a bare metal server"
   ]
  },
  {
   "cell_type": "code",
   "execution_count": 2,
   "id": "ac3693c5-dd92-477b-bc46-60939289b258",
   "metadata": {},
   "outputs": [
    {
     "name": "stdout",
     "output_type": "stream",
     "text": [
      "Creating lease...\n",
      "Waiting for lease to start ... This can take upto 1 min ...\n",
      "Lease is now active!\n"
     ]
    }
   ],
   "source": [
    "reservations = []\n",
    "try:\n",
    "    print(\"Creating lease...\")\n",
    "    lease.add_fip_reservation(reservations, count=1)\n",
    "    lease.add_node_reservation(\n",
    "        reservations, count=1,\n",
    "        resource_properties=[\"==\",\"$node_type\",\"compute_cascadelake_r\"])\n",
    "\n",
    "    start_date, end_date = lease.lease_duration(days=1)\n",
    "    # start_date, end_date = lease.lease_duration(hours=4)\n",
    "\n",
    "    l = lease.create_lease(\n",
    "        f\"HADOOP-18146-{uid_this}\",\n",
    "        reservations, \n",
    "        start_date=start_date,\n",
    "        end_date=end_date)\n",
    "    cloud_lease_id = l[\"id\"]\n",
    "\n",
    "    print(\"Waiting for lease to start ... This can take upto 1 min ...\")\n",
    "    lease.wait_for_active(cloud_lease_id)\n",
    "    print(\"Lease is now active!\")\n",
    "except keystoneauth1.exceptions.http.Unauthorized as e:\n",
    "    print(\"Unauthorized.\\nDid set your project name and and run the code in the first cell?\")\n",
    "except blazarclient.exception.BlazarClientException as e:\n",
    "    print(f\"There is an issue making the reservation. Check the calendar to make sure a node is available.\")\n",
    "    print(\"https://chi.uc.chameleoncloud.org/project/leases/calendar/host/\")\n",
    "    print(e)\n",
    "except Exception as e:\n",
    "    print(\"An unexpected error happened.\")\n",
    "    print(e)\n"
   ]
  },
  {
   "cell_type": "code",
   "execution_count": 3,
   "id": "d052e035-e187-4a9b-a147-e4fb7872c9e1",
   "metadata": {},
   "outputs": [
    {
     "data": {
      "text/plain": [
       "'eb716356-9c12-4b51-a1c6-a8ed7abdbc93'"
      ]
     },
     "execution_count": 3,
     "metadata": {},
     "output_type": "execute_result"
    }
   ],
   "source": [
    "cloud_lease_id"
   ]
  },
  {
   "cell_type": "markdown",
   "id": "ffb42239-6077-4ea2-b921-34f767a9c2b8",
   "metadata": {},
   "source": [
    "## Launch server\n",
    "\n",
    "We now launch the node on the bare metal server we just reserved in the above cell. This could take up to 10-15 mins."
   ]
  },
  {
   "cell_type": "code",
   "execution_count": 5,
   "id": "8657e0ac-223e-436d-be96-27f80591607f",
   "metadata": {},
   "outputs": [
    {
     "name": "stdout",
     "output_type": "stream",
     "text": [
      "Waiting for server to start ...\n",
      "Done\n"
     ]
    }
   ],
   "source": [
    "s = server.create_server(\n",
    "    f\"HADOOP-18146-{uid_this}\", \n",
    "    image_name=\"CC-Ubuntu20.04\",\n",
    "    reservation_id=lease.get_node_reservation(cloud_lease_id))\n",
    "\n",
    "print(\"Waiting for server to start ...\")\n",
    "server.wait_for_active(s.id)\n",
    "print(\"Done\")\n",
    "\n",
    "# image = \"CC-Ubuntu18.04\"\n",
    "# reservation_req_time = int(time.time())\n",
    "# s = server.create_server(\n",
    "#     f\"{os.getenv('USER')}-HADOOP-18146-{reservation_req_time}\", \n",
    "#     image_name=image,\n",
    "#     reservation_id=lease.get_node_reservation(lease_id)\n",
    "# )\n",
    "\n",
    "# print(\"Waiting for server to start ...\")\n",
    "# server.wait_for_active(s.id)\n",
    "# print(\"Done\")"
   ]
  },
  {
   "cell_type": "markdown",
   "id": "c8c2367c-1a49-4a4e-af10-e5978f5c8439",
   "metadata": {},
   "source": [
    "Wait for the server's operating system to boot up and be ready for SSH connection. This could take 5-10 mins."
   ]
  },
  {
   "cell_type": "code",
   "execution_count": 6,
   "id": "9c027d63-d8e1-4924-b47f-a05d5b11c0e5",
   "metadata": {},
   "outputs": [
    {
     "name": "stdout",
     "output_type": "stream",
     "text": [
      "Waiting for SSH connectivity on 192.5.86.238 ...\n",
      "Connection successful\n"
     ]
    }
   ],
   "source": [
    "floating_ip = lease.get_reserved_floating_ips(cloud_lease_id)[0]\n",
    "server.associate_floating_ip(s.id, floating_ip_address=floating_ip)\n",
    "\n",
    "print(f\"Waiting for SSH connectivity on {floating_ip} ...\")\n",
    "timeout = 60*2\n",
    "import socket\n",
    "import time\n",
    "# Repeatedly try to connect via SSH.\n",
    "start_time = time.perf_counter()\n",
    "while True:\n",
    "    try:\n",
    "        with socket.create_connection((floating_ip, 22), timeout=timeout):\n",
    "            print(\"Connection successful\")\n",
    "            break\n",
    "    except OSError as ex:\n",
    "        time.sleep(10)\n",
    "        if time.perf_counter() - start_time >= timeout:\n",
    "            print(f\"After {timeout} seconds, could not connect via SSH. Please try again.\")"
   ]
  },
  {
   "cell_type": "code",
   "execution_count": 7,
   "id": "dbdd02d5-d4e2-4325-aac9-5ede98c208e4",
   "metadata": {},
   "outputs": [
    {
     "name": "stderr",
     "output_type": "stream",
     "text": [
      "/opt/conda/lib/python3.10/site-packages/paramiko/client.py:852: UserWarning: Unknown ssh-ed25519 host key for 192.5.86.238: b'ea27126df9a039909e0580b77536c738'\n",
      "  warnings.warn(\n"
     ]
    },
    {
     "name": "stdout",
     "output_type": "stream",
     "text": [
      "Generating public/private rsa key pair.\n",
      "Your identification has been saved in /home/cc/.ssh/id_rsa\n",
      "Your public key has been saved in /home/cc/.ssh/id_rsa.pub\n",
      "The key fingerprint is:\n",
      "SHA256:wGt3K5sChs0ERXGjxNEWeWaS1caN9f0x+aT7JDeWbPk cc@hadoop-18146-94813b23-7906-4956-ac87-7d2a7fc8a52a\n",
      "The key's randomart image is:\n",
      "+---[RSA 3072]----+\n",
      "|   +*++=.o +.    |\n",
      "|  ...+*.+ = .. ..|\n",
      "|   ...o= .    .+o|\n",
      "|    .  o       o=|\n",
      "|   =  o S .   . o|\n",
      "|  . =. . . .  ..o|\n",
      "|   . .  . .   oBo|\n",
      "|      .  +    o=o|\n",
      "|       .o       E|\n",
      "+----[SHA256]-----+\n"
     ]
    }
   ],
   "source": [
    "from chi import ssh\n",
    "\n",
    "with ssh.Remote(floating_ip) as conn:\n",
    "    # generate rsa key pari\n",
    "    conn.run(\"ssh-keygen -t rsa -P '' -f ~/.ssh/id_rsa \")\n",
    "    conn.run(\"cat ~/.ssh/id_rsa.pub >> ~/.ssh/authorized_keys\")\n",
    "    conn.run(\"chmod 0600 ~/.ssh/authorized_keys\")"
   ]
  },
  {
   "cell_type": "markdown",
   "id": "7a18829c-78bf-4102-aad0-8bde9c393aaa",
   "metadata": {},
   "source": [
    "## Experiment\n",
    "\n",
    "### Preparation\n",
    "\n",
    "We will upload and run the preparation script `prepare.sh` on the server to setup JVM."
   ]
  },
  {
   "cell_type": "code",
   "execution_count": 8,
   "id": "488abec8-dab9-4483-8da3-95cdb177f0fa",
   "metadata": {},
   "outputs": [
    {
     "name": "stdout",
     "output_type": "stream",
     "text": [
      "Setting up environment...\n"
     ]
    },
    {
     "name": "stderr",
     "output_type": "stream",
     "text": [
      "debconf: unable to initialize frontend: Dialog\n",
      "debconf: (Dialog frontend will not work on a dumb terminal, an emacs shell buffer, or without a controlling terminal.)\n",
      "debconf: falling back to frontend: Readline\n",
      "debconf: unable to initialize frontend: Readline\n",
      "debconf: (This frontend requires a controlling tty.)\n",
      "debconf: falling back to frontend: Teletype\n",
      "dpkg-preconfigure: unable to re-open stdin: \n"
     ]
    },
    {
     "name": "stdout",
     "output_type": "stream",
     "text": [
      "Cloning hadoop code base...\n"
     ]
    },
    {
     "name": "stderr",
     "output_type": "stream",
     "text": [
      "Cloning into 'hadoop'...\n",
      "Updating files: 100% (15369/15369), done.\n"
     ]
    },
    {
     "name": "stdout",
     "output_type": "stream",
     "text": [
      "Done!\n"
     ]
    }
   ],
   "source": [
    "from chi import ssh\n",
    "\n",
    "with ssh.Remote(floating_ip) as conn:\n",
    "    conn.put(\"./script/prepare.sh\")\n",
    "    conn.run(\"bash prepare.sh\")"
   ]
  },
  {
   "cell_type": "markdown",
   "id": "219787a9-3b56-4e44-aed3-04366a73620d",
   "metadata": {},
   "source": [
    "### Run experiment"
   ]
  },
  {
   "cell_type": "code",
   "execution_count": 2,
   "id": "44096d62-ed71-4e29-85e3-4388f3e2fa29",
   "metadata": {},
   "outputs": [
    {
     "ename": "NameError",
     "evalue": "name 'floating_ip' is not defined",
     "output_type": "error",
     "traceback": [
      "\u001b[0;31m---------------------------------------------------------------------------\u001b[0m",
      "\u001b[0;31mNameError\u001b[0m                                 Traceback (most recent call last)",
      "\u001b[0;32m/tmp/ipykernel_168/2422256369.py\u001b[0m in \u001b[0;36m<cell line: 2>\u001b[0;34m()\u001b[0m\n\u001b[1;32m      1\u001b[0m \u001b[0;32mfrom\u001b[0m \u001b[0mchi\u001b[0m \u001b[0;32mimport\u001b[0m \u001b[0mssh\u001b[0m\u001b[0;34m\u001b[0m\u001b[0;34m\u001b[0m\u001b[0m\n\u001b[0;32m----> 2\u001b[0;31m \u001b[0;32mwith\u001b[0m \u001b[0mssh\u001b[0m\u001b[0;34m.\u001b[0m\u001b[0mRemote\u001b[0m\u001b[0;34m(\u001b[0m\u001b[0mfloating_ip\u001b[0m\u001b[0;34m)\u001b[0m \u001b[0;32mas\u001b[0m \u001b[0mconn\u001b[0m\u001b[0;34m:\u001b[0m\u001b[0;34m\u001b[0m\u001b[0;34m\u001b[0m\u001b[0m\n\u001b[0m\u001b[1;32m      3\u001b[0m     \u001b[0mconn\u001b[0m\u001b[0;34m.\u001b[0m\u001b[0mput\u001b[0m\u001b[0;34m(\u001b[0m\u001b[0;34m\"./script/run.sh\"\u001b[0m\u001b[0;34m)\u001b[0m\u001b[0;34m\u001b[0m\u001b[0;34m\u001b[0m\u001b[0m\n\u001b[1;32m      4\u001b[0m     \u001b[0mconn\u001b[0m\u001b[0;34m.\u001b[0m\u001b[0mrun\u001b[0m\u001b[0;34m(\u001b[0m\u001b[0;34m\"bash run.sh\"\u001b[0m\u001b[0;34m)\u001b[0m\u001b[0;34m\u001b[0m\u001b[0;34m\u001b[0m\u001b[0m\n",
      "\u001b[0;31mNameError\u001b[0m: name 'floating_ip' is not defined"
     ]
    }
   ],
   "source": [
    "from chi import ssh\n",
    "with ssh.Remote(floating_ip) as conn:\n",
    "    conn.put(\"./script/run.sh\")\n",
    "    conn.run(\"bash run.sh\")"
   ]
  },
  {
   "cell_type": "code",
   "execution_count": 3,
   "id": "e94e3ba0-df01-4e99-b21e-34d02346c651",
   "metadata": {},
   "outputs": [
    {
     "ename": "NameError",
     "evalue": "name 'floating_ip' is not defined",
     "output_type": "error",
     "traceback": [
      "\u001b[0;31m---------------------------------------------------------------------------\u001b[0m",
      "\u001b[0;31mNameError\u001b[0m                                 Traceback (most recent call last)",
      "\u001b[0;32m/tmp/ipykernel_168/2022403500.py\u001b[0m in \u001b[0;36m<cell line: 2>\u001b[0;34m()\u001b[0m\n\u001b[1;32m      1\u001b[0m \u001b[0;32mfrom\u001b[0m \u001b[0mchi\u001b[0m \u001b[0;32mimport\u001b[0m \u001b[0mssh\u001b[0m\u001b[0;34m\u001b[0m\u001b[0;34m\u001b[0m\u001b[0m\n\u001b[0;32m----> 2\u001b[0;31m \u001b[0;32mwith\u001b[0m \u001b[0mssh\u001b[0m\u001b[0;34m.\u001b[0m\u001b[0mRemote\u001b[0m\u001b[0;34m(\u001b[0m\u001b[0mfloating_ip\u001b[0m\u001b[0;34m)\u001b[0m \u001b[0;32mas\u001b[0m \u001b[0mconn\u001b[0m\u001b[0;34m:\u001b[0m\u001b[0;34m\u001b[0m\u001b[0;34m\u001b[0m\u001b[0m\n\u001b[0m\u001b[1;32m      3\u001b[0m     \u001b[0mconn\u001b[0m\u001b[0;34m.\u001b[0m\u001b[0mput\u001b[0m\u001b[0;34m(\u001b[0m\u001b[0;34m\"./script/run_test.sh\"\u001b[0m\u001b[0;34m)\u001b[0m\u001b[0;34m\u001b[0m\u001b[0;34m\u001b[0m\u001b[0m\n\u001b[1;32m      4\u001b[0m     \u001b[0mconn\u001b[0m\u001b[0;34m.\u001b[0m\u001b[0mrun\u001b[0m\u001b[0;34m(\u001b[0m\u001b[0;34m\"bash run_test.sh\"\u001b[0m\u001b[0;34m)\u001b[0m\u001b[0;34m\u001b[0m\u001b[0;34m\u001b[0m\u001b[0m\n",
      "\u001b[0;31mNameError\u001b[0m: name 'floating_ip' is not defined"
     ]
    }
   ],
   "source": [
    "from chi import ssh\n",
    "with ssh.Remote(floating_ip) as conn:\n",
    "    conn.put(\"./script/run_test.sh\")\n",
    "    conn.run(\"bash run_test.sh\")"
   ]
  },
  {
   "cell_type": "code",
   "execution_count": null,
   "id": "c06b92b2-bf29-484b-aa9c-dce6a107d95b",
   "metadata": {},
   "outputs": [],
   "source": []
  }
 ],
 "metadata": {
  "kernelspec": {
   "display_name": "Python 3 (ipykernel)",
   "language": "python",
   "name": "python3"
  },
  "language_info": {
   "codemirror_mode": {
    "name": "ipython",
    "version": 3
   },
   "file_extension": ".py",
   "mimetype": "text/x-python",
   "name": "python",
   "nbconvert_exporter": "python",
   "pygments_lexer": "ipython3",
   "version": "3.10.9"
  }
 },
 "nbformat": 4,
 "nbformat_minor": 5
}
