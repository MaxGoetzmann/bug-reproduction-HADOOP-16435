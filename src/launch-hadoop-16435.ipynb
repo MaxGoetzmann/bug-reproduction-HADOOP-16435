{
 "cells": [
  {
   "cell_type": "markdown",
   "metadata": {},
   "source": [
    "# HADOOP-16435: RpcMetrics should not be retained forever\n",
    "\n",
    "[Link to Jira report.](https://issues.apache.org/jira/browse/HADOOP-16435)\n",
    "\n",
    "Package created by Max Goetzmann.\n",
    "\n",
    "## Reserve bare metal and floating IP"
   ]
  },
  {
   "cell_type": "code",
   "execution_count": 10,
   "metadata": {},
   "outputs": [
    {
     "name": "stdout",
     "output_type": "stream",
     "text": [
      "Now using CHI@NU:\n",
      "URL: https://sl-ciab.northwestern.edu\n",
      "Location: Evanston, Illinois, USA\n",
      "Support contact: help@chameleoncloud.org\n"
     ]
    },
    {
     "ename": "BadRequest",
     "evalue": "Invalid input for field 'identity/token/id': None is not of type 'string'\n\nFailed validating 'type' in schema['properties']['identity']['properties']['token']['properties']['id']:\n    {'type': 'string'}\n\nOn instance['identity']['token']['id']:\n    None (HTTP 400) (Request-ID: req-a3969944-ebf5-451b-b5a2-5e9d80c43b25)",
     "output_type": "error",
     "traceback": [
      "\u001b[0;31m---------------------------------------------------------------------------\u001b[0m",
      "\u001b[0;31mBadRequest\u001b[0m                                Traceback (most recent call last)",
      "Cell \u001b[0;32mIn[10], line 20\u001b[0m\n\u001b[1;32m     18\u001b[0m reservations \u001b[38;5;241m=\u001b[39m []\n\u001b[1;32m     19\u001b[0m add_node_reservation(reservations, count\u001b[38;5;241m=\u001b[39m\u001b[38;5;241m1\u001b[39m, node_type\u001b[38;5;241m=\u001b[39mnode_type)\n\u001b[0;32m---> 20\u001b[0m \u001b[43madd_fip_reservation\u001b[49m\u001b[43m(\u001b[49m\u001b[43mreservations\u001b[49m\u001b[43m,\u001b[49m\u001b[43m \u001b[49m\u001b[43mcount\u001b[49m\u001b[38;5;241;43m=\u001b[39;49m\u001b[38;5;241;43m1\u001b[39;49m\u001b[43m)\u001b[49m\n\u001b[1;32m     22\u001b[0m \u001b[38;5;66;03m# Create the lease\u001b[39;00m\n\u001b[1;32m     23\u001b[0m lease \u001b[38;5;241m=\u001b[39m create_lease(LEASE_NAME, reservations, start_date\u001b[38;5;241m=\u001b[39mstart_date,\n\u001b[1;32m     24\u001b[0m                      end_date\u001b[38;5;241m=\u001b[39mend_date)\n",
      "File \u001b[0;32m/opt/homebrew/anaconda3/lib/python3.10/site-packages/chi/lease.py:618\u001b[0m, in \u001b[0;36madd_fip_reservation\u001b[0;34m(reservation_list, count)\u001b[0m\n\u001b[1;32m    607\u001b[0m \u001b[38;5;28;01mdef\u001b[39;00m \u001b[38;5;21madd_fip_reservation\u001b[39m(reservation_list, count\u001b[38;5;241m=\u001b[39m\u001b[38;5;241m1\u001b[39m):\n\u001b[1;32m    608\u001b[0m     \u001b[38;5;124;03m\"\"\"Add a floating IP reservation to a reservation list.\u001b[39;00m\n\u001b[1;32m    609\u001b[0m \n\u001b[1;32m    610\u001b[0m \u001b[38;5;124;03m    Args:\u001b[39;00m\n\u001b[0;32m   (...)\u001b[0m\n\u001b[1;32m    613\u001b[0m \u001b[38;5;124;03m        count (int): The number of floating IPs to reserve.\u001b[39;00m\n\u001b[1;32m    614\u001b[0m \u001b[38;5;124;03m    \"\"\"\u001b[39;00m\n\u001b[1;32m    615\u001b[0m     reservation_list\u001b[38;5;241m.\u001b[39mappend(\n\u001b[1;32m    616\u001b[0m         {\n\u001b[1;32m    617\u001b[0m             \u001b[38;5;124m\"\u001b[39m\u001b[38;5;124mresource_type\u001b[39m\u001b[38;5;124m\"\u001b[39m: \u001b[38;5;124m\"\u001b[39m\u001b[38;5;124mvirtual:floatingip\u001b[39m\u001b[38;5;124m\"\u001b[39m,\n\u001b[0;32m--> 618\u001b[0m             \u001b[38;5;124m\"\u001b[39m\u001b[38;5;124mnetwork_id\u001b[39m\u001b[38;5;124m\"\u001b[39m: \u001b[43mget_network_id\u001b[49m\u001b[43m(\u001b[49m\u001b[43mPUBLIC_NETWORK\u001b[49m\u001b[43m)\u001b[49m,\n\u001b[1;32m    619\u001b[0m             \u001b[38;5;124m\"\u001b[39m\u001b[38;5;124mamount\u001b[39m\u001b[38;5;124m\"\u001b[39m: count,\n\u001b[1;32m    620\u001b[0m         }\n\u001b[1;32m    621\u001b[0m     )\n",
      "File \u001b[0;32m/opt/homebrew/anaconda3/lib/python3.10/site-packages/chi/network.py:120\u001b[0m, in \u001b[0;36mget_network_id\u001b[0;34m(name)\u001b[0m\n\u001b[1;32m    107\u001b[0m \u001b[38;5;28;01mdef\u001b[39;00m \u001b[38;5;21mget_network_id\u001b[39m(name) \u001b[38;5;241m-\u001b[39m\u001b[38;5;241m>\u001b[39m \u001b[38;5;28mstr\u001b[39m:\n\u001b[1;32m    108\u001b[0m     \u001b[38;5;124;03m\"\"\"Look up a network's ID from its name.\u001b[39;00m\n\u001b[1;32m    109\u001b[0m \n\u001b[1;32m    110\u001b[0m \u001b[38;5;124;03m    Args:\u001b[39;00m\n\u001b[0;32m   (...)\u001b[0m\n\u001b[1;32m    118\u001b[0m \u001b[38;5;124;03m            were returned for the search term.\u001b[39;00m\n\u001b[1;32m    119\u001b[0m \u001b[38;5;124;03m    \"\"\"\u001b[39;00m\n\u001b[0;32m--> 120\u001b[0m     \u001b[38;5;28;01mreturn\u001b[39;00m \u001b[43m_resolve_id\u001b[49m\u001b[43m(\u001b[49m\u001b[38;5;124;43m'\u001b[39;49m\u001b[38;5;124;43mnetworks\u001b[39;49m\u001b[38;5;124;43m'\u001b[39;49m\u001b[43m,\u001b[49m\u001b[43m \u001b[49m\u001b[43mname\u001b[49m\u001b[43m)\u001b[49m\n",
      "File \u001b[0;32m/opt/homebrew/anaconda3/lib/python3.10/site-packages/chi/network.py:64\u001b[0m, in \u001b[0;36m_resolve_id\u001b[0;34m(resource, name)\u001b[0m\n\u001b[1;32m     61\u001b[0m \u001b[38;5;28;01mif\u001b[39;00m \u001b[38;5;129;01mnot\u001b[39;00m callable(list_fn):\n\u001b[1;32m     62\u001b[0m     \u001b[38;5;28;01mraise\u001b[39;00m \u001b[38;5;167;01mValueError\u001b[39;00m(\u001b[38;5;124mf\u001b[39m\u001b[38;5;124m'\u001b[39m\u001b[38;5;124mInvalid resource type \u001b[39m\u001b[38;5;124m\"\u001b[39m\u001b[38;5;132;01m{\u001b[39;00mresource\u001b[38;5;132;01m}\u001b[39;00m\u001b[38;5;124m\"\u001b[39m\u001b[38;5;124m'\u001b[39m)\n\u001b[1;32m     63\u001b[0m resources \u001b[38;5;241m=\u001b[39m [\n\u001b[0;32m---> 64\u001b[0m     x \u001b[38;5;28;01mfor\u001b[39;00m x \u001b[38;5;129;01min\u001b[39;00m \u001b[43mlist_fn\u001b[49m\u001b[43m(\u001b[49m\u001b[43m)\u001b[49m[resource]\n\u001b[1;32m     65\u001b[0m     \u001b[38;5;28;01mif\u001b[39;00m x[\u001b[38;5;124m'\u001b[39m\u001b[38;5;124mname\u001b[39m\u001b[38;5;124m'\u001b[39m] \u001b[38;5;241m==\u001b[39m name\n\u001b[1;32m     66\u001b[0m ]\n\u001b[1;32m     67\u001b[0m \u001b[38;5;28;01mif\u001b[39;00m \u001b[38;5;129;01mnot\u001b[39;00m resources:\n\u001b[1;32m     68\u001b[0m     \u001b[38;5;28;01mraise\u001b[39;00m \u001b[38;5;167;01mRuntimeError\u001b[39;00m(\u001b[38;5;124mf\u001b[39m\u001b[38;5;124m'\u001b[39m\u001b[38;5;124mNo \u001b[39m\u001b[38;5;132;01m{\u001b[39;00mresource\u001b[38;5;132;01m}\u001b[39;00m\u001b[38;5;124m found with name \u001b[39m\u001b[38;5;132;01m{\u001b[39;00mname\u001b[38;5;132;01m}\u001b[39;00m\u001b[38;5;124m'\u001b[39m)\n",
      "File \u001b[0;32m/opt/homebrew/anaconda3/lib/python3.10/site-packages/neutronclient/v2_0/client.py:860\u001b[0m, in \u001b[0;36mClient.list_networks\u001b[0;34m(self, retrieve_all, **_params)\u001b[0m\n\u001b[1;32m    858\u001b[0m \u001b[38;5;124;03m\"\"\"Fetches a list of all networks for a project.\"\"\"\u001b[39;00m\n\u001b[1;32m    859\u001b[0m \u001b[38;5;66;03m# Pass filters in \"params\" argument to do_request\u001b[39;00m\n\u001b[0;32m--> 860\u001b[0m \u001b[38;5;28;01mreturn\u001b[39;00m \u001b[38;5;28;43mself\u001b[39;49m\u001b[38;5;241;43m.\u001b[39;49m\u001b[43mlist\u001b[49m\u001b[43m(\u001b[49m\u001b[38;5;124;43m'\u001b[39;49m\u001b[38;5;124;43mnetworks\u001b[39;49m\u001b[38;5;124;43m'\u001b[39;49m\u001b[43m,\u001b[49m\u001b[43m \u001b[49m\u001b[38;5;28;43mself\u001b[39;49m\u001b[38;5;241;43m.\u001b[39;49m\u001b[43mnetworks_path\u001b[49m\u001b[43m,\u001b[49m\u001b[43m \u001b[49m\u001b[43mretrieve_all\u001b[49m\u001b[43m,\u001b[49m\n\u001b[1;32m    861\u001b[0m \u001b[43m                 \u001b[49m\u001b[38;5;241;43m*\u001b[39;49m\u001b[38;5;241;43m*\u001b[39;49m\u001b[43m_params\u001b[49m\u001b[43m)\u001b[49m\n",
      "File \u001b[0;32m/opt/homebrew/anaconda3/lib/python3.10/site-packages/neutronclient/v2_0/client.py:372\u001b[0m, in \u001b[0;36mClientBase.list\u001b[0;34m(self, collection, path, retrieve_all, **params)\u001b[0m\n\u001b[1;32m    370\u001b[0m res \u001b[38;5;241m=\u001b[39m []\n\u001b[1;32m    371\u001b[0m request_ids \u001b[38;5;241m=\u001b[39m []\n\u001b[0;32m--> 372\u001b[0m \u001b[38;5;28;01mfor\u001b[39;00m r \u001b[38;5;129;01min\u001b[39;00m \u001b[38;5;28mself\u001b[39m\u001b[38;5;241m.\u001b[39m_pagination(collection, path, \u001b[38;5;241m*\u001b[39m\u001b[38;5;241m*\u001b[39mparams):\n\u001b[1;32m    373\u001b[0m     res\u001b[38;5;241m.\u001b[39mextend(r[collection])\n\u001b[1;32m    374\u001b[0m     request_ids\u001b[38;5;241m.\u001b[39mextend(r\u001b[38;5;241m.\u001b[39mrequest_ids)\n",
      "File \u001b[0;32m/opt/homebrew/anaconda3/lib/python3.10/site-packages/neutronclient/v2_0/client.py:387\u001b[0m, in \u001b[0;36mClientBase._pagination\u001b[0;34m(self, collection, path, **params)\u001b[0m\n\u001b[1;32m    385\u001b[0m \u001b[38;5;28mnext\u001b[39m \u001b[38;5;241m=\u001b[39m \u001b[38;5;28;01mTrue\u001b[39;00m\n\u001b[1;32m    386\u001b[0m \u001b[38;5;28;01mwhile\u001b[39;00m \u001b[38;5;28mnext\u001b[39m:\n\u001b[0;32m--> 387\u001b[0m     res \u001b[38;5;241m=\u001b[39m \u001b[38;5;28;43mself\u001b[39;49m\u001b[38;5;241;43m.\u001b[39;49m\u001b[43mget\u001b[49m\u001b[43m(\u001b[49m\u001b[43mpath\u001b[49m\u001b[43m,\u001b[49m\u001b[43m \u001b[49m\u001b[43mparams\u001b[49m\u001b[38;5;241;43m=\u001b[39;49m\u001b[43mparams\u001b[49m\u001b[43m)\u001b[49m\n\u001b[1;32m    388\u001b[0m     \u001b[38;5;28;01myield\u001b[39;00m res\n\u001b[1;32m    389\u001b[0m     \u001b[38;5;28mnext\u001b[39m \u001b[38;5;241m=\u001b[39m \u001b[38;5;28;01mFalse\u001b[39;00m\n",
      "File \u001b[0;32m/opt/homebrew/anaconda3/lib/python3.10/site-packages/neutronclient/v2_0/client.py:356\u001b[0m, in \u001b[0;36mClientBase.get\u001b[0;34m(self, action, body, headers, params)\u001b[0m\n\u001b[1;32m    355\u001b[0m \u001b[38;5;28;01mdef\u001b[39;00m \u001b[38;5;21mget\u001b[39m(\u001b[38;5;28mself\u001b[39m, action, body\u001b[38;5;241m=\u001b[39m\u001b[38;5;28;01mNone\u001b[39;00m, headers\u001b[38;5;241m=\u001b[39m\u001b[38;5;28;01mNone\u001b[39;00m, params\u001b[38;5;241m=\u001b[39m\u001b[38;5;28;01mNone\u001b[39;00m):\n\u001b[0;32m--> 356\u001b[0m     \u001b[38;5;28;01mreturn\u001b[39;00m \u001b[38;5;28;43mself\u001b[39;49m\u001b[38;5;241;43m.\u001b[39;49m\u001b[43mretry_request\u001b[49m\u001b[43m(\u001b[49m\u001b[38;5;124;43m\"\u001b[39;49m\u001b[38;5;124;43mGET\u001b[39;49m\u001b[38;5;124;43m\"\u001b[39;49m\u001b[43m,\u001b[49m\u001b[43m \u001b[49m\u001b[43maction\u001b[49m\u001b[43m,\u001b[49m\u001b[43m \u001b[49m\u001b[43mbody\u001b[49m\u001b[38;5;241;43m=\u001b[39;49m\u001b[43mbody\u001b[49m\u001b[43m,\u001b[49m\n\u001b[1;32m    357\u001b[0m \u001b[43m                              \u001b[49m\u001b[43mheaders\u001b[49m\u001b[38;5;241;43m=\u001b[39;49m\u001b[43mheaders\u001b[49m\u001b[43m,\u001b[49m\u001b[43m \u001b[49m\u001b[43mparams\u001b[49m\u001b[38;5;241;43m=\u001b[39;49m\u001b[43mparams\u001b[49m\u001b[43m)\u001b[49m\n",
      "File \u001b[0;32m/opt/homebrew/anaconda3/lib/python3.10/site-packages/neutronclient/v2_0/client.py:333\u001b[0m, in \u001b[0;36mClientBase.retry_request\u001b[0;34m(self, method, action, body, headers, params)\u001b[0m\n\u001b[1;32m    331\u001b[0m \u001b[38;5;28;01mfor\u001b[39;00m i \u001b[38;5;129;01min\u001b[39;00m \u001b[38;5;28mrange\u001b[39m(max_attempts):\n\u001b[1;32m    332\u001b[0m     \u001b[38;5;28;01mtry\u001b[39;00m:\n\u001b[0;32m--> 333\u001b[0m         \u001b[38;5;28;01mreturn\u001b[39;00m \u001b[38;5;28;43mself\u001b[39;49m\u001b[38;5;241;43m.\u001b[39;49m\u001b[43mdo_request\u001b[49m\u001b[43m(\u001b[49m\u001b[43mmethod\u001b[49m\u001b[43m,\u001b[49m\u001b[43m \u001b[49m\u001b[43maction\u001b[49m\u001b[43m,\u001b[49m\u001b[43m \u001b[49m\u001b[43mbody\u001b[49m\u001b[38;5;241;43m=\u001b[39;49m\u001b[43mbody\u001b[49m\u001b[43m,\u001b[49m\n\u001b[1;32m    334\u001b[0m \u001b[43m                               \u001b[49m\u001b[43mheaders\u001b[49m\u001b[38;5;241;43m=\u001b[39;49m\u001b[43mheaders\u001b[49m\u001b[43m,\u001b[49m\u001b[43m \u001b[49m\u001b[43mparams\u001b[49m\u001b[38;5;241;43m=\u001b[39;49m\u001b[43mparams\u001b[49m\u001b[43m)\u001b[49m\n\u001b[1;32m    335\u001b[0m     \u001b[38;5;28;01mexcept\u001b[39;00m (exceptions\u001b[38;5;241m.\u001b[39mConnectionFailed, ksa_exc\u001b[38;5;241m.\u001b[39mConnectionError):\n\u001b[1;32m    336\u001b[0m         \u001b[38;5;66;03m# Exception has already been logged by do_request()\u001b[39;00m\n\u001b[1;32m    337\u001b[0m         \u001b[38;5;28;01mif\u001b[39;00m i \u001b[38;5;241m<\u001b[39m \u001b[38;5;28mself\u001b[39m\u001b[38;5;241m.\u001b[39mretries:\n",
      "File \u001b[0;32m/opt/homebrew/anaconda3/lib/python3.10/site-packages/neutronclient/v2_0/client.py:284\u001b[0m, in \u001b[0;36mClientBase.do_request\u001b[0;34m(self, method, action, body, headers, params)\u001b[0m\n\u001b[1;32m    281\u001b[0m \u001b[38;5;28;01mif\u001b[39;00m body:\n\u001b[1;32m    282\u001b[0m     body \u001b[38;5;241m=\u001b[39m \u001b[38;5;28mself\u001b[39m\u001b[38;5;241m.\u001b[39mserialize(body)\n\u001b[0;32m--> 284\u001b[0m resp, replybody \u001b[38;5;241m=\u001b[39m \u001b[38;5;28;43mself\u001b[39;49m\u001b[38;5;241;43m.\u001b[39;49m\u001b[43mhttpclient\u001b[49m\u001b[38;5;241;43m.\u001b[39;49m\u001b[43mdo_request\u001b[49m\u001b[43m(\u001b[49m\u001b[43maction\u001b[49m\u001b[43m,\u001b[49m\u001b[43m \u001b[49m\u001b[43mmethod\u001b[49m\u001b[43m,\u001b[49m\u001b[43m \u001b[49m\u001b[43mbody\u001b[49m\u001b[38;5;241;43m=\u001b[39;49m\u001b[43mbody\u001b[49m\u001b[43m,\u001b[49m\n\u001b[1;32m    285\u001b[0m \u001b[43m                                             \u001b[49m\u001b[43mheaders\u001b[49m\u001b[38;5;241;43m=\u001b[39;49m\u001b[43mheaders\u001b[49m\u001b[43m)\u001b[49m\n\u001b[1;32m    287\u001b[0m status_code \u001b[38;5;241m=\u001b[39m resp\u001b[38;5;241m.\u001b[39mstatus_code\n\u001b[1;32m    288\u001b[0m \u001b[38;5;28;01mif\u001b[39;00m status_code \u001b[38;5;129;01min\u001b[39;00m (requests\u001b[38;5;241m.\u001b[39mcodes\u001b[38;5;241m.\u001b[39mok,\n\u001b[1;32m    289\u001b[0m                    requests\u001b[38;5;241m.\u001b[39mcodes\u001b[38;5;241m.\u001b[39mcreated,\n\u001b[1;32m    290\u001b[0m                    requests\u001b[38;5;241m.\u001b[39mcodes\u001b[38;5;241m.\u001b[39maccepted,\n\u001b[1;32m    291\u001b[0m                    requests\u001b[38;5;241m.\u001b[39mcodes\u001b[38;5;241m.\u001b[39mno_content):\n",
      "File \u001b[0;32m/opt/homebrew/anaconda3/lib/python3.10/site-packages/neutronclient/client.py:341\u001b[0m, in \u001b[0;36mSessionClient.do_request\u001b[0;34m(self, url, method, **kwargs)\u001b[0m\n\u001b[1;32m    339\u001b[0m \u001b[38;5;28;01mdef\u001b[39;00m \u001b[38;5;21mdo_request\u001b[39m(\u001b[38;5;28mself\u001b[39m, url, method, \u001b[38;5;241m*\u001b[39m\u001b[38;5;241m*\u001b[39mkwargs):\n\u001b[1;32m    340\u001b[0m     kwargs\u001b[38;5;241m.\u001b[39msetdefault(\u001b[38;5;124m'\u001b[39m\u001b[38;5;124mauthenticated\u001b[39m\u001b[38;5;124m'\u001b[39m, \u001b[38;5;28;01mTrue\u001b[39;00m)\n\u001b[0;32m--> 341\u001b[0m     \u001b[38;5;28;43mself\u001b[39;49m\u001b[38;5;241;43m.\u001b[39;49m\u001b[43m_check_uri_length\u001b[49m\u001b[43m(\u001b[49m\u001b[43murl\u001b[49m\u001b[43m)\u001b[49m\n\u001b[1;32m    342\u001b[0m     \u001b[38;5;28;01mreturn\u001b[39;00m \u001b[38;5;28mself\u001b[39m\u001b[38;5;241m.\u001b[39mrequest(url, method, \u001b[38;5;241m*\u001b[39m\u001b[38;5;241m*\u001b[39mkwargs)\n",
      "File \u001b[0;32m/opt/homebrew/anaconda3/lib/python3.10/site-packages/neutronclient/client.py:334\u001b[0m, in \u001b[0;36mSessionClient._check_uri_length\u001b[0;34m(self, url)\u001b[0m\n\u001b[1;32m    333\u001b[0m \u001b[38;5;28;01mdef\u001b[39;00m \u001b[38;5;21m_check_uri_length\u001b[39m(\u001b[38;5;28mself\u001b[39m, url):\n\u001b[0;32m--> 334\u001b[0m     uri_len \u001b[38;5;241m=\u001b[39m \u001b[38;5;28mlen\u001b[39m(\u001b[38;5;28;43mself\u001b[39;49m\u001b[38;5;241;43m.\u001b[39;49m\u001b[43mendpoint_url\u001b[49m) \u001b[38;5;241m+\u001b[39m \u001b[38;5;28mlen\u001b[39m(url)\n\u001b[1;32m    335\u001b[0m     \u001b[38;5;28;01mif\u001b[39;00m uri_len \u001b[38;5;241m>\u001b[39m MAX_URI_LEN:\n\u001b[1;32m    336\u001b[0m         \u001b[38;5;28;01mraise\u001b[39;00m exceptions\u001b[38;5;241m.\u001b[39mRequestURITooLong(\n\u001b[1;32m    337\u001b[0m             excess\u001b[38;5;241m=\u001b[39muri_len \u001b[38;5;241m-\u001b[39m MAX_URI_LEN)\n",
      "File \u001b[0;32m/opt/homebrew/anaconda3/lib/python3.10/site-packages/neutronclient/client.py:348\u001b[0m, in \u001b[0;36mSessionClient.endpoint_url\u001b[0;34m(self)\u001b[0m\n\u001b[1;32m    344\u001b[0m \u001b[38;5;129m@property\u001b[39m\n\u001b[1;32m    345\u001b[0m \u001b[38;5;28;01mdef\u001b[39;00m \u001b[38;5;21mendpoint_url\u001b[39m(\u001b[38;5;28mself\u001b[39m):\n\u001b[1;32m    346\u001b[0m     \u001b[38;5;66;03m# NOTE(jamielennox): This is used purely by the CLI and should be\u001b[39;00m\n\u001b[1;32m    347\u001b[0m     \u001b[38;5;66;03m# removed when the CLI gets smarter.\u001b[39;00m\n\u001b[0;32m--> 348\u001b[0m     \u001b[38;5;28;01mreturn\u001b[39;00m \u001b[38;5;28;43mself\u001b[39;49m\u001b[38;5;241;43m.\u001b[39;49m\u001b[43mget_endpoint\u001b[49m\u001b[43m(\u001b[49m\u001b[43m)\u001b[49m\n",
      "File \u001b[0;32m/opt/homebrew/anaconda3/lib/python3.10/site-packages/keystoneauth1/adapter.py:289\u001b[0m, in \u001b[0;36mAdapter.get_endpoint\u001b[0;34m(self, auth, **kwargs)\u001b[0m\n\u001b[1;32m    286\u001b[0m     \u001b[38;5;28;01mreturn\u001b[39;00m \u001b[38;5;28mself\u001b[39m\u001b[38;5;241m.\u001b[39mendpoint_override\n\u001b[1;32m    288\u001b[0m \u001b[38;5;28mself\u001b[39m\u001b[38;5;241m.\u001b[39m_set_endpoint_filter_kwargs(kwargs)\n\u001b[0;32m--> 289\u001b[0m \u001b[38;5;28;01mreturn\u001b[39;00m \u001b[38;5;28;43mself\u001b[39;49m\u001b[38;5;241;43m.\u001b[39;49m\u001b[43msession\u001b[49m\u001b[38;5;241;43m.\u001b[39;49m\u001b[43mget_endpoint\u001b[49m\u001b[43m(\u001b[49m\u001b[43mauth\u001b[49m\u001b[43m \u001b[49m\u001b[38;5;129;43;01mor\u001b[39;49;00m\u001b[43m \u001b[49m\u001b[38;5;28;43mself\u001b[39;49m\u001b[38;5;241;43m.\u001b[39;49m\u001b[43mauth\u001b[49m\u001b[43m,\u001b[49m\u001b[43m \u001b[49m\u001b[38;5;241;43m*\u001b[39;49m\u001b[38;5;241;43m*\u001b[39;49m\u001b[43mkwargs\u001b[49m\u001b[43m)\u001b[49m\n",
      "File \u001b[0;32m/opt/homebrew/anaconda3/lib/python3.10/site-packages/keystoneauth1/adapter.py:289\u001b[0m, in \u001b[0;36mAdapter.get_endpoint\u001b[0;34m(self, auth, **kwargs)\u001b[0m\n\u001b[1;32m    286\u001b[0m     \u001b[38;5;28;01mreturn\u001b[39;00m \u001b[38;5;28mself\u001b[39m\u001b[38;5;241m.\u001b[39mendpoint_override\n\u001b[1;32m    288\u001b[0m \u001b[38;5;28mself\u001b[39m\u001b[38;5;241m.\u001b[39m_set_endpoint_filter_kwargs(kwargs)\n\u001b[0;32m--> 289\u001b[0m \u001b[38;5;28;01mreturn\u001b[39;00m \u001b[38;5;28;43mself\u001b[39;49m\u001b[38;5;241;43m.\u001b[39;49m\u001b[43msession\u001b[49m\u001b[38;5;241;43m.\u001b[39;49m\u001b[43mget_endpoint\u001b[49m\u001b[43m(\u001b[49m\u001b[43mauth\u001b[49m\u001b[43m \u001b[49m\u001b[38;5;129;43;01mor\u001b[39;49;00m\u001b[43m \u001b[49m\u001b[38;5;28;43mself\u001b[39;49m\u001b[38;5;241;43m.\u001b[39;49m\u001b[43mauth\u001b[49m\u001b[43m,\u001b[49m\u001b[43m \u001b[49m\u001b[38;5;241;43m*\u001b[39;49m\u001b[38;5;241;43m*\u001b[39;49m\u001b[43mkwargs\u001b[49m\u001b[43m)\u001b[49m\n",
      "File \u001b[0;32m/opt/homebrew/anaconda3/lib/python3.10/site-packages/keystoneauth1/session.py:1256\u001b[0m, in \u001b[0;36mSession.get_endpoint\u001b[0;34m(self, auth, **kwargs)\u001b[0m\n\u001b[1;32m   1252\u001b[0m     \u001b[38;5;28;01mreturn\u001b[39;00m kwargs[\u001b[38;5;124m'\u001b[39m\u001b[38;5;124mendpoint_override\u001b[39m\u001b[38;5;124m'\u001b[39m]\n\u001b[1;32m   1254\u001b[0m auth \u001b[38;5;241m=\u001b[39m \u001b[38;5;28mself\u001b[39m\u001b[38;5;241m.\u001b[39m_auth_required(auth, \u001b[38;5;124m'\u001b[39m\u001b[38;5;124mdetermine endpoint URL\u001b[39m\u001b[38;5;124m'\u001b[39m)\n\u001b[0;32m-> 1256\u001b[0m \u001b[38;5;28;01mreturn\u001b[39;00m \u001b[43mauth\u001b[49m\u001b[38;5;241;43m.\u001b[39;49m\u001b[43mget_endpoint\u001b[49m\u001b[43m(\u001b[49m\u001b[38;5;28;43mself\u001b[39;49m\u001b[43m,\u001b[49m\u001b[43m \u001b[49m\u001b[38;5;241;43m*\u001b[39;49m\u001b[38;5;241;43m*\u001b[39;49m\u001b[43mkwargs\u001b[49m\u001b[43m)\u001b[49m\n",
      "File \u001b[0;32m/opt/homebrew/anaconda3/lib/python3.10/site-packages/keystoneauth1/identity/base.py:372\u001b[0m, in \u001b[0;36mBaseIdentityPlugin.get_endpoint\u001b[0;34m(self, session, service_type, interface, region_name, service_name, version, allow, allow_version_hack, skip_discovery, min_version, max_version, **kwargs)\u001b[0m\n\u001b[1;32m    365\u001b[0m min_version, max_version \u001b[38;5;241m=\u001b[39m discover\u001b[38;5;241m.\u001b[39m_normalize_version_args(\n\u001b[1;32m    366\u001b[0m     version, min_version, max_version, service_type\u001b[38;5;241m=\u001b[39mservice_type)\n\u001b[1;32m    367\u001b[0m \u001b[38;5;66;03m# Set discover_versions to False since we're only going to return\u001b[39;00m\n\u001b[1;32m    368\u001b[0m \u001b[38;5;66;03m# a URL. Fetching the microversion data would be needlessly\u001b[39;00m\n\u001b[1;32m    369\u001b[0m \u001b[38;5;66;03m# expensive in the common case. However, discover_versions=False\u001b[39;00m\n\u001b[1;32m    370\u001b[0m \u001b[38;5;66;03m# will still run discovery if the version requested is not the\u001b[39;00m\n\u001b[1;32m    371\u001b[0m \u001b[38;5;66;03m# version in the catalog.\u001b[39;00m\n\u001b[0;32m--> 372\u001b[0m endpoint_data \u001b[38;5;241m=\u001b[39m \u001b[38;5;28;43mself\u001b[39;49m\u001b[38;5;241;43m.\u001b[39;49m\u001b[43mget_endpoint_data\u001b[49m\u001b[43m(\u001b[49m\n\u001b[1;32m    373\u001b[0m \u001b[43m    \u001b[49m\u001b[43msession\u001b[49m\u001b[43m,\u001b[49m\u001b[43m \u001b[49m\u001b[43mservice_type\u001b[49m\u001b[38;5;241;43m=\u001b[39;49m\u001b[43mservice_type\u001b[49m\u001b[43m,\u001b[49m\u001b[43m \u001b[49m\u001b[43minterface\u001b[49m\u001b[38;5;241;43m=\u001b[39;49m\u001b[43minterface\u001b[49m\u001b[43m,\u001b[49m\n\u001b[1;32m    374\u001b[0m \u001b[43m    \u001b[49m\u001b[43mregion_name\u001b[49m\u001b[38;5;241;43m=\u001b[39;49m\u001b[43mregion_name\u001b[49m\u001b[43m,\u001b[49m\u001b[43m \u001b[49m\u001b[43mservice_name\u001b[49m\u001b[38;5;241;43m=\u001b[39;49m\u001b[43mservice_name\u001b[49m\u001b[43m,\u001b[49m\n\u001b[1;32m    375\u001b[0m \u001b[43m    \u001b[49m\u001b[43mallow\u001b[49m\u001b[38;5;241;43m=\u001b[39;49m\u001b[43mallow\u001b[49m\u001b[43m,\u001b[49m\u001b[43m \u001b[49m\u001b[43mmin_version\u001b[49m\u001b[38;5;241;43m=\u001b[39;49m\u001b[43mmin_version\u001b[49m\u001b[43m,\u001b[49m\u001b[43m \u001b[49m\u001b[43mmax_version\u001b[49m\u001b[38;5;241;43m=\u001b[39;49m\u001b[43mmax_version\u001b[49m\u001b[43m,\u001b[49m\n\u001b[1;32m    376\u001b[0m \u001b[43m    \u001b[49m\u001b[43mdiscover_versions\u001b[49m\u001b[38;5;241;43m=\u001b[39;49m\u001b[38;5;28;43;01mFalse\u001b[39;49;00m\u001b[43m,\u001b[49m\u001b[43m \u001b[49m\u001b[43mskip_discovery\u001b[49m\u001b[38;5;241;43m=\u001b[39;49m\u001b[43mskip_discovery\u001b[49m\u001b[43m,\u001b[49m\n\u001b[1;32m    377\u001b[0m \u001b[43m    \u001b[49m\u001b[43mallow_version_hack\u001b[49m\u001b[38;5;241;43m=\u001b[39;49m\u001b[43mallow_version_hack\u001b[49m\u001b[43m,\u001b[49m\u001b[43m \u001b[49m\u001b[38;5;241;43m*\u001b[39;49m\u001b[38;5;241;43m*\u001b[39;49m\u001b[43mkwargs\u001b[49m\u001b[43m)\u001b[49m\n\u001b[1;32m    378\u001b[0m \u001b[38;5;28;01mreturn\u001b[39;00m endpoint_data\u001b[38;5;241m.\u001b[39murl \u001b[38;5;28;01mif\u001b[39;00m endpoint_data \u001b[38;5;28;01melse\u001b[39;00m \u001b[38;5;28;01mNone\u001b[39;00m\n",
      "File \u001b[0;32m/opt/homebrew/anaconda3/lib/python3.10/site-packages/keystoneauth1/identity/base.py:268\u001b[0m, in \u001b[0;36mBaseIdentityPlugin.get_endpoint_data\u001b[0;34m(self, session, service_type, interface, region_name, service_name, allow, allow_version_hack, discover_versions, skip_discovery, min_version, max_version, endpoint_override, **kwargs)\u001b[0m\n\u001b[1;32m    265\u001b[0m \u001b[38;5;28;01mif\u001b[39;00m \u001b[38;5;129;01mnot\u001b[39;00m interface:\n\u001b[1;32m    266\u001b[0m     interface \u001b[38;5;241m=\u001b[39m \u001b[38;5;124m'\u001b[39m\u001b[38;5;124mpublic\u001b[39m\u001b[38;5;124m'\u001b[39m\n\u001b[0;32m--> 268\u001b[0m service_catalog \u001b[38;5;241m=\u001b[39m \u001b[38;5;28;43mself\u001b[39;49m\u001b[38;5;241;43m.\u001b[39;49m\u001b[43mget_access\u001b[49m\u001b[43m(\u001b[49m\u001b[43msession\u001b[49m\u001b[43m)\u001b[49m\u001b[38;5;241m.\u001b[39mservice_catalog\n\u001b[1;32m    269\u001b[0m project_id \u001b[38;5;241m=\u001b[39m \u001b[38;5;28mself\u001b[39m\u001b[38;5;241m.\u001b[39mget_project_id(session)\n\u001b[1;32m    270\u001b[0m \u001b[38;5;66;03m# NOTE(mordred): service_catalog.url_data_for raises if it can't\u001b[39;00m\n\u001b[1;32m    271\u001b[0m \u001b[38;5;66;03m# find a match, so this will always be a valid object.\u001b[39;00m\n",
      "File \u001b[0;32m/opt/homebrew/anaconda3/lib/python3.10/site-packages/keystoneauth1/identity/base.py:131\u001b[0m, in \u001b[0;36mBaseIdentityPlugin.get_access\u001b[0;34m(self, session, **kwargs)\u001b[0m\n\u001b[1;32m    129\u001b[0m \u001b[38;5;28;01mwith\u001b[39;00m \u001b[38;5;28mself\u001b[39m\u001b[38;5;241m.\u001b[39m_lock:\n\u001b[1;32m    130\u001b[0m     \u001b[38;5;28;01mif\u001b[39;00m \u001b[38;5;28mself\u001b[39m\u001b[38;5;241m.\u001b[39m_needs_reauthenticate():\n\u001b[0;32m--> 131\u001b[0m         \u001b[38;5;28mself\u001b[39m\u001b[38;5;241m.\u001b[39mauth_ref \u001b[38;5;241m=\u001b[39m \u001b[38;5;28;43mself\u001b[39;49m\u001b[38;5;241;43m.\u001b[39;49m\u001b[43mget_auth_ref\u001b[49m\u001b[43m(\u001b[49m\u001b[43msession\u001b[49m\u001b[43m)\u001b[49m\n\u001b[1;32m    133\u001b[0m \u001b[38;5;28;01mreturn\u001b[39;00m \u001b[38;5;28mself\u001b[39m\u001b[38;5;241m.\u001b[39mauth_ref\n",
      "File \u001b[0;32m/opt/homebrew/anaconda3/lib/python3.10/site-packages/keystoneauth1/identity/v3/base.py:185\u001b[0m, in \u001b[0;36mAuth.get_auth_ref\u001b[0;34m(self, session, **kwargs)\u001b[0m\n\u001b[1;32m    182\u001b[0m     token_url \u001b[38;5;241m+\u001b[39m\u001b[38;5;241m=\u001b[39m \u001b[38;5;124m'\u001b[39m\u001b[38;5;124m?nocatalog\u001b[39m\u001b[38;5;124m'\u001b[39m\n\u001b[1;32m    184\u001b[0m _logger\u001b[38;5;241m.\u001b[39mdebug(\u001b[38;5;124m'\u001b[39m\u001b[38;5;124mMaking authentication request to \u001b[39m\u001b[38;5;132;01m%s\u001b[39;00m\u001b[38;5;124m'\u001b[39m, token_url)\n\u001b[0;32m--> 185\u001b[0m resp \u001b[38;5;241m=\u001b[39m \u001b[43msession\u001b[49m\u001b[38;5;241;43m.\u001b[39;49m\u001b[43mpost\u001b[49m\u001b[43m(\u001b[49m\u001b[43mtoken_url\u001b[49m\u001b[43m,\u001b[49m\u001b[43m \u001b[49m\u001b[43mjson\u001b[49m\u001b[38;5;241;43m=\u001b[39;49m\u001b[43mbody\u001b[49m\u001b[43m,\u001b[49m\u001b[43m \u001b[49m\u001b[43mheaders\u001b[49m\u001b[38;5;241;43m=\u001b[39;49m\u001b[43mheaders\u001b[49m\u001b[43m,\u001b[49m\n\u001b[1;32m    186\u001b[0m \u001b[43m                    \u001b[49m\u001b[43mauthenticated\u001b[49m\u001b[38;5;241;43m=\u001b[39;49m\u001b[38;5;28;43;01mFalse\u001b[39;49;00m\u001b[43m,\u001b[49m\u001b[43m \u001b[49m\u001b[43mlog\u001b[49m\u001b[38;5;241;43m=\u001b[39;49m\u001b[38;5;28;43;01mFalse\u001b[39;49;00m\u001b[43m,\u001b[49m\u001b[43m \u001b[49m\u001b[38;5;241;43m*\u001b[39;49m\u001b[38;5;241;43m*\u001b[39;49m\u001b[43mrkwargs\u001b[49m\u001b[43m)\u001b[49m\n\u001b[1;32m    188\u001b[0m \u001b[38;5;28;01mtry\u001b[39;00m:\n\u001b[1;32m    189\u001b[0m     _logger\u001b[38;5;241m.\u001b[39mdebug(json\u001b[38;5;241m.\u001b[39mdumps(resp\u001b[38;5;241m.\u001b[39mjson()))\n",
      "File \u001b[0;32m/opt/homebrew/anaconda3/lib/python3.10/site-packages/keystoneauth1/session.py:1162\u001b[0m, in \u001b[0;36mSession.post\u001b[0;34m(self, url, **kwargs)\u001b[0m\n\u001b[1;32m   1156\u001b[0m \u001b[38;5;28;01mdef\u001b[39;00m \u001b[38;5;21mpost\u001b[39m(\u001b[38;5;28mself\u001b[39m, url, \u001b[38;5;241m*\u001b[39m\u001b[38;5;241m*\u001b[39mkwargs):\n\u001b[1;32m   1157\u001b[0m     \u001b[38;5;124;03m\"\"\"Perform a POST request.\u001b[39;00m\n\u001b[1;32m   1158\u001b[0m \n\u001b[1;32m   1159\u001b[0m \u001b[38;5;124;03m    This calls :py:meth:`.request()` with ``method`` set to ``POST``.\u001b[39;00m\n\u001b[1;32m   1160\u001b[0m \n\u001b[1;32m   1161\u001b[0m \u001b[38;5;124;03m    \"\"\"\u001b[39;00m\n\u001b[0;32m-> 1162\u001b[0m     \u001b[38;5;28;01mreturn\u001b[39;00m \u001b[38;5;28;43mself\u001b[39;49m\u001b[38;5;241;43m.\u001b[39;49m\u001b[43mrequest\u001b[49m\u001b[43m(\u001b[49m\u001b[43murl\u001b[49m\u001b[43m,\u001b[49m\u001b[43m \u001b[49m\u001b[38;5;124;43m'\u001b[39;49m\u001b[38;5;124;43mPOST\u001b[39;49m\u001b[38;5;124;43m'\u001b[39;49m\u001b[43m,\u001b[49m\u001b[43m \u001b[49m\u001b[38;5;241;43m*\u001b[39;49m\u001b[38;5;241;43m*\u001b[39;49m\u001b[43mkwargs\u001b[49m\u001b[43m)\u001b[49m\n",
      "File \u001b[0;32m/opt/homebrew/anaconda3/lib/python3.10/site-packages/keystoneauth1/session.py:985\u001b[0m, in \u001b[0;36mSession.request\u001b[0;34m(self, url, method, json, original_ip, user_agent, redirect, authenticated, endpoint_filter, auth, requests_auth, raise_exc, allow_reauth, log, endpoint_override, connect_retries, logger, allow, client_name, client_version, microversion, microversion_service_type, status_code_retries, retriable_status_codes, rate_semaphore, global_request_id, connect_retry_delay, status_code_retry_delay, **kwargs)\u001b[0m\n\u001b[1;32m    982\u001b[0m \u001b[38;5;28;01mif\u001b[39;00m raise_exc \u001b[38;5;129;01mand\u001b[39;00m resp\u001b[38;5;241m.\u001b[39mstatus_code \u001b[38;5;241m>\u001b[39m\u001b[38;5;241m=\u001b[39m \u001b[38;5;241m400\u001b[39m:\n\u001b[1;32m    983\u001b[0m     logger\u001b[38;5;241m.\u001b[39mdebug(\u001b[38;5;124m'\u001b[39m\u001b[38;5;124mRequest returned failure status: \u001b[39m\u001b[38;5;132;01m%s\u001b[39;00m\u001b[38;5;124m'\u001b[39m,\n\u001b[1;32m    984\u001b[0m                  resp\u001b[38;5;241m.\u001b[39mstatus_code)\n\u001b[0;32m--> 985\u001b[0m     \u001b[38;5;28;01mraise\u001b[39;00m exceptions\u001b[38;5;241m.\u001b[39mfrom_response(resp, method, url)\n\u001b[1;32m    987\u001b[0m \u001b[38;5;28;01mif\u001b[39;00m \u001b[38;5;28mself\u001b[39m\u001b[38;5;241m.\u001b[39m_collect_timing:\n\u001b[1;32m    988\u001b[0m     \u001b[38;5;28;01mfor\u001b[39;00m h \u001b[38;5;129;01min\u001b[39;00m resp\u001b[38;5;241m.\u001b[39mhistory:\n",
      "\u001b[0;31mBadRequest\u001b[0m: Invalid input for field 'identity/token/id': None is not of type 'string'\n\nFailed validating 'type' in schema['properties']['identity']['properties']['token']['properties']['id']:\n    {'type': 'string'}\n\nOn instance['identity']['token']['id']:\n    None (HTTP 400) (Request-ID: req-a3969944-ebf5-451b-b5a2-5e9d80c43b25)"
     ]
    }
   ],
   "source": [
    "import chi\n",
    "import uuid\n",
    "from chi.lease import lease_duration, add_node_reservation, create_lease, add_fip_reservation\n",
    "\n",
    "SITE = 'CHI@NU'\n",
    "CHARGE_CODE = 'CHI-220969'\n",
    "PROJECT_ID = uuid.uuid4()\n",
    "LEASE_NAME = 'bug-repro-HADOOP-16435'\n",
    "\n",
    "chi.use_site(SITE)\n",
    "chi.set('project_name', CHARGE_CODE)\n",
    "chi.set(\"project_domain_name\", \"chameleon\")\n",
    "\n",
    "node_type = \"compute_skylake\"\n",
    "start_date, end_date = lease_duration(hours=6)\n",
    "\n",
    "# Build list of reservations (in this case there is only one reservation)\n",
    "reservations = []\n",
    "add_node_reservation(reservations, count=1, node_type=node_type)\n",
    "add_fip_reservation(reservations, count=1)\n",
    "\n",
    "# Create the lease\n",
    "lease = create_lease(LEASE_NAME, reservations, start_date=start_date,\n",
    "                     end_date=end_date)\n"
   ]
  },
  {
   "cell_type": "markdown",
   "metadata": {},
   "source": [
    "## Launch bare metal"
   ]
  },
  {
   "cell_type": "code",
   "execution_count": null,
   "metadata": {},
   "outputs": [],
   "source": [
    "from chi.lease import get_node_reservation\n",
    "from chi.server import create_server, associate_floating_ip, wait_for_tcp\n",
    "\n",
    "SERVER_NAME = LEASE_NAME\n",
    "reservation_id = get_node_reservation(LEASE_NAME)\n",
    "server = create_server(SERVER_NAME, \n",
    "                       image_name=\"CC-Ubuntu22.04\",\n",
    "                       reservation_id=reservation_id)\n",
    "\n",
    "server_id = server.id\n",
    "ip = associate_floating_ip(server_id)\n",
    "\n",
    "# Wait for SSH connectivity over port 22\n",
    "wait_for_tcp(ip, port=22)"
   ]
  },
  {
   "cell_type": "markdown",
   "metadata": {},
   "source": [
    "## Upload and execute setup script "
   ]
  },
  {
   "cell_type": "code",
   "execution_count": null,
   "metadata": {},
   "outputs": [
    {
     "name": "stdout",
     "output_type": "stream",
     "text": [
      "['./bin/setup.sh', './bin/protobuf_install.sh']\n"
     ]
    }
   ],
   "source": [
    "import os\n",
    "from chi import ssh\n",
    "\n",
    "def list_files(dir):\n",
    "    file_list = []\n",
    "    for root, _, files in os.walk(dir):\n",
    "        for file in files:\n",
    "            file_list.append(dir + os.path.relpath(os.path.join(root, file), dir))\n",
    "    return file_list\n",
    "\n",
    "bin_files = list_files('./bin/')\n",
    "patch_files = list_files('./patch/')\n",
    "new_files = list_files('./new_files/')\n",
    "\n",
    "with ssh.Remote(ip) as conn:\n",
    "    # Upload setup files \n",
    "    conn.run(f'mkdir {LEASE_NAME}')\n",
    "    conn.run(f'cd {LEASE_NAME}')\n",
    "    for file in bin_files + patch_files + new_files:\n",
    "        conn.put(file)\n",
    "    \n",
    "    # Execute setup\n",
    "    conn.run(\"bash prepare.sh\")\n"
   ]
  },
  {
   "cell_type": "markdown",
   "metadata": {},
   "source": [
    "## Perform experiment"
   ]
  },
  {
   "cell_type": "code",
   "execution_count": null,
   "metadata": {},
   "outputs": [],
   "source": [
    "with ssh.Remote(ip) as conn:\n",
    "    # Run tests\n",
    "    conn.run(\"bash run_tests.sh\")"
   ]
  },
  {
   "cell_type": "markdown",
   "metadata": {},
   "source": [
    "## Process and output experiment results"
   ]
  },
  {
   "cell_type": "code",
   "execution_count": null,
   "metadata": {},
   "outputs": [],
   "source": [
    "import pandas as pd\n",
    "import matplotlib.pyplot as plt\n",
    "\n",
    "BUGGY_REPO = 'buggy_repo'\n",
    "PATCHED_REPO = 'patched_repo'\n",
    "\n",
    "# Read the CSV files\n",
    "file1 = f'./{BUGGY_REPO}/heap_usage.csv'\n",
    "file2 = f'./{PATCHED_REPO}/heap_usage.csv'\n",
    "df1 = pd.read_csv(file1)\n",
    "df2 = pd.read_csv(file2)\n",
    "\n",
    "# Convert bytes to megabytes\n",
    "df1.iloc[:, 1] = df1.iloc[:, 1] / 1024 / 1024\n",
    "df2.iloc[:, 1] = df2.iloc[:, 1] / 1024 / 1024\n",
    "\n",
    "# Plot the graph\n",
    "plt.figure(figsize=(10, 6))\n",
    "plt.plot(df1.iloc[:, 0], df1.iloc[:, 1], label='Before Patch')\n",
    "plt.plot(df2.iloc[:, 0], df2.iloc[:, 1], label='After Patch')\n",
    "plt.xlabel('Number of Sessions')\n",
    "plt.ylabel('Heap Space (MB)')\n",
    "plt.title('Number of Sessions vs Heap Space')\n",
    "plt.legend()\n",
    "\n",
    "# Save the plot to a file\n",
    "plt.savefig('output_plot.png')\n",
    "plt.show()"
   ]
  }
 ],
 "metadata": {
  "kernelspec": {
   "display_name": "base",
   "language": "python",
   "name": "python3"
  },
  "language_info": {
   "codemirror_mode": {
    "name": "ipython",
    "version": 3
   },
   "file_extension": ".py",
   "mimetype": "text/x-python",
   "name": "python",
   "nbconvert_exporter": "python",
   "pygments_lexer": "ipython3",
   "version": "3.10.8"
  }
 },
 "nbformat": 4,
 "nbformat_minor": 2
}
