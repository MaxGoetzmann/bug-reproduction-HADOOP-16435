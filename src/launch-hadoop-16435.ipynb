{
 "cells": [
  {
   "cell_type": "markdown",
   "metadata": {},
   "source": [
    "# HADOOP-16435: RpcMetrics should not be retained forever\n",
    "\n",
    "[Link to Jira report.](https://issues.apache.org/jira/browse/HADOOP-16435)\n",
    "\n",
    "Package created by Max Goetzmann.\n",
    "\n",
    "## Reserve bare metal and floating IP"
   ]
  },
  {
   "cell_type": "code",
   "execution_count": 9,
   "metadata": {},
   "outputs": [
    {
     "name": "stdout",
     "output_type": "stream",
     "text": [
      "Now using CHI@NU:\n",
      "URL: https://sl-ciab.northwestern.edu\n",
      "Location: Evanston, Illinois, USA\n",
      "Support contact: help@chameleoncloud.org\n"
     ]
    }
   ],
   "source": [
    "import chi\n",
    "from chi.lease import lease_duration, add_node_reservation, create_lease, add_fip_reservation\n",
    "\n",
    "SITE = 'CHI@NU'\n",
    "CHARGE_CODE = 'CHI-220969'\n",
    "RESERVATION_DAY_LENGTH = 1\n",
    "LEASE_NAME = 'bug-repro-HADOOP-16435'\n",
    "\n",
    "chi.use_site(SITE)\n",
    "chi.set('project_name', CHARGE_CODE)\n",
    "\n",
    "node_type = \"compute_skylake\"\n",
    "start_date, end_date = lease_duration(days=RESERVATION_DAY_LENGTH)\n",
    "\n",
    "# Build list of reservations (in this case there is only one reservation)\n",
    "reservations = []\n",
    "add_node_reservation(reservations, count=1, node_type=node_type)\n",
    "add_fip_reservation(reservations, count=1)\n",
    "\n",
    "# Create the lease\n",
    "lease = create_lease(LEASE_NAME, reservations, start_date=start_date,\n",
    "                     end_date=end_date)\n"
   ]
  },
  {
   "cell_type": "markdown",
   "metadata": {},
   "source": [
    "## Launch bare metal"
   ]
  },
  {
   "cell_type": "code",
   "execution_count": null,
   "metadata": {},
   "outputs": [],
   "source": [
    "from chi.lease import get_node_reservation\n",
    "from chi.server import create_server, associate_floating_ip, wait_for_tcp\n",
    "\n",
    "SERVER_NAME = LEASE_NAME\n",
    "reservation_id = get_node_reservation(LEASE_NAME)\n",
    "server = create_server(SERVER_NAME, \n",
    "                       image_name=\"CC-Ubuntu22.04\",\n",
    "                       reservation_id=reservation_id)\n",
    "\n",
    "server_id = server.id\n",
    "ip = associate_floating_ip(server_id)\n",
    "\n",
    "# Wait for SSH connectivity over port 22\n",
    "wait_for_tcp(ip, port=22)"
   ]
  },
  {
   "cell_type": "markdown",
   "metadata": {},
   "source": [
    "## Upload and execute setup script "
   ]
  },
  {
   "cell_type": "code",
   "execution_count": 13,
   "metadata": {},
   "outputs": [
    {
     "name": "stdout",
     "output_type": "stream",
     "text": [
      "['./bin/setup.sh', './bin/protobuf_install.sh']\n"
     ]
    }
   ],
   "source": [
    "import os\n",
    "from chi import ssh\n",
    "\n",
    "def list_files(dir):\n",
    "    file_list = []\n",
    "    for root, _, files in os.walk(dir):\n",
    "        for file in files:\n",
    "            file_list.append(dir + os.path.relpath(os.path.join(root, file), dir))\n",
    "    return file_list\n",
    "\n",
    "bin_files = list_files('./bin/')\n",
    "\n",
    "with ssh.Remote(ip) as conn:\n",
    "    # Upload setup files \n",
    "    conn.run(f'mkdir {LEASE_NAME}')\n",
    "    conn.run(f'cd {LEASE_NAME}')\n",
    "    for file in bin_files:\n",
    "        conn.put(file)\n",
    "    \n",
    "    # Execute setup\n",
    "    conn.run(\"prepare.sh\")\n",
    "\n"
   ]
  },
  {
   "cell_type": "markdown",
   "metadata": {},
   "source": [
    "## Perform experiment"
   ]
  },
  {
   "cell_type": "markdown",
   "metadata": {},
   "source": [
    "## Process and output experiment results"
   ]
  },
  {
   "cell_type": "code",
   "execution_count": null,
   "metadata": {},
   "outputs": [],
   "source": [
    "# Filler"
   ]
  }
 ],
 "metadata": {
  "kernelspec": {
   "display_name": "base",
   "language": "python",
   "name": "python3"
  },
  "language_info": {
   "codemirror_mode": {
    "name": "ipython",
    "version": 3
   },
   "file_extension": ".py",
   "mimetype": "text/x-python",
   "name": "python",
   "nbconvert_exporter": "python",
   "pygments_lexer": "ipython3",
   "version": "3.10.8"
  }
 },
 "nbformat": 4,
 "nbformat_minor": 2
}
